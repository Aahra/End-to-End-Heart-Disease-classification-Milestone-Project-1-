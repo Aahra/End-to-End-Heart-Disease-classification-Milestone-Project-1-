{
  "nbformat": 4,
  "nbformat_minor": 0,
  "metadata": {
    "colab": {
      "name": "End_to_end_Sale_Price_predictor.ipynb",
      "provenance": [],
      "authorship_tag": "ABX9TyPyKn/SKI34btcRJU3ZqAA8",
      "include_colab_link": true
    },
    "kernelspec": {
      "name": "python3",
      "display_name": "Python 3"
    },
    "language_info": {
      "name": "python"
    }
  },
  "cells": [
    {
      "cell_type": "markdown",
      "metadata": {
        "id": "view-in-github",
        "colab_type": "text"
      },
      "source": [
        "<a href=\"https://colab.research.google.com/github/Aahra/End-to-End-Heart-Disease-classification-Milestone-Project-1-/blob/main/End_to_end_Sale_Price_predictor.ipynb\" target=\"_parent\"><img src=\"https://colab.research.google.com/assets/colab-badge.svg\" alt=\"Open In Colab\"/></a>"
      ]
    },
    {
      "cell_type": "markdown",
      "metadata": {
        "id": "j239st9Wau89"
      },
      "source": [
        "#<b>Predicting the Sale price  of Bulldoers using Machine  learning\n",
        "\n",
        "In this notebook we are going thru an ex of  Machine learning project with a goal to predicting  the sale price  of Bulldozers.\n",
        "\n",
        "## 1. Problem definition\n",
        "\n",
        "How  well can we predict  the future sale price of a bulldozer ,given its characteristics and previous ex of much similar bulldozers have  been sold for.\n",
        "\n",
        "## 2. Data\n",
        "Data is downloaded froM Kaggle - \n",
        " \n",
        " https://www.kaggle.com/c/bluebook-for-bulldozers/data\n",
        "\n",
        " The data for this competition is split into three parts:\n",
        "\n",
        "    Train.csv is the training set, which contains data through the end of 2011.\n",
        "    Valid.csv is the validation set, which contains data from January 1, 2012 - April 30, 2012 You make predictions on this set throughout the majority of the competition. Your score on this set is used to create the public leaderboard.\n",
        "    Test.csv is the test set, which won't be released until the last week of the competition. It contains data from May 1, 2012 - November 2012. Your score on the test set determines your final rank for the competition.\n",
        "\n",
        "\n",
        "## 3.Evaluation\n"
      ]
    }
  ]
}