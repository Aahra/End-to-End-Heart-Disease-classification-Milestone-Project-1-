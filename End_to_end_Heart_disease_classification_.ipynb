{
  "nbformat": 4,
  "nbformat_minor": 0,
  "metadata": {
    "colab": {
      "name": "End to end Heart disease classification  .ipynb",
      "provenance": [],
      "authorship_tag": "ABX9TyOKQWTSJ7jW9bBvBHGLEFg9",
      "include_colab_link": true
    },
    "kernelspec": {
      "name": "python3",
      "display_name": "Python 3"
    },
    "language_info": {
      "name": "python"
    }
  },
  "cells": [
    {
      "cell_type": "markdown",
      "metadata": {
        "id": "view-in-github",
        "colab_type": "text"
      },
      "source": [
        "<a href=\"https://colab.research.google.com/github/Aahra/End-to-End-Heart-Disease-classification-Milestone-Project-1-/blob/main/End_to_end_Heart_disease_classification_.ipynb\" target=\"_parent\"><img src=\"https://colab.research.google.com/assets/colab-badge.svg\" alt=\"Open In Colab\"/></a>"
      ]
    },
    {
      "cell_type": "markdown",
      "metadata": {
        "id": "eIoExspHcCuZ"
      },
      "source": [
        "# <b>Predicting  heart disease using Machine learning\n",
        "\n",
        "## This notebook looks into using various Python based machine learning and data science libraries in an attempt to build a machine learning model capable of predicting whether or not someone has a heart disease based on their medical attributes\n",
        "\n",
        "\n",
        "## We are going to take the following approach-\n",
        "##1. Problem definition\n",
        "#### Given clinical parameters about a patient ,can we predict whether  or not they have a heart disease or not.\n",
        "##2. Data\n",
        "#### <b>Resources -(UCI Machine learning repo),(Kaggle)\n",
        "#### The original dataset came from the Cleveland data from the UCI machine learning repo and also has a copy on Kaggle - https://www.kaggle.com/ronitf/heart-disease-uci\n",
        "##3. Evaluation-What is success for us?\n",
        "#### If we can reach 95% accuracy at predicting wheher or not a patient has a heart disease during the proof of concept,we'll pursue the project.\n",
        "##4. Features(of Data)\n",
        "#### Create a data dictionary\n",
        "###### 1. age -in years\n",
        "\n",
        "2.sex- (1 = male; 0 = female)\n",
        "\n",
        "3 cp- chest pain type\n",
        "\n",
        "4.trestbps- resting blood pressure (in mm Hg on admission to the hospital)\n",
        "\n",
        "5.chol- serum cholestoral in mg/dl\n",
        "\n",
        "6.fbs- (fasting blood sugar > 120 mg/dl) (1 = true; 0 = false)\n",
        "\n",
        "7.restecg- resting electrocardiographic results\n",
        "\n",
        "8.thalach- maximum heart rate achieved\n",
        "\n",
        "9.exang- exercise induced angina (1 = yes; 0 = no)\n",
        "\n",
        "10.oldpeak- ST depression induced by exercise relative to rest\n",
        "\n",
        "11.slope- the slope of the peak exercise ST segment\n",
        "\n",
        "12.ca- number of major vessels (0-3) colored by flourosopy\n",
        "\n",
        "13.thal- 3 = normal; 6 = fixed defect; 7 = reversable defect\n",
        "\n",
        "14.target- 1 or 0\n",
        "##5. Modelling\n",
        "#### \n",
        "##6. Experimentation"
      ]
    },
    {
      "cell_type": "markdown",
      "metadata": {
        "id": "zCRcUuxzbi5F"
      },
      "source": [
        "## Preparing the Tool\n",
        "\n",
        "We're going to use Pandas,matplotlib,NumPy,scikit learn for Data Analyis and  Manipulation"
      ]
    },
    {
      "cell_type": "code",
      "metadata": {
        "id": "rTsKqGJ2ekPs"
      },
      "source": [
        "\n",
        "##IMPORT ALL THE TOOLS\n",
        "\n",
        "#Regular EDA (exploratory  data analysis)and plotting libaries\n",
        "\n",
        "import numpy as np\n",
        "import pandas as pd\n",
        "import matplotlib.pyplot as plt\n",
        "import seaborn as sns\n",
        "\n",
        "%matplotlib inline ##we  want the plot  figure to appear inside the notebook\n",
        "\n",
        "#Models from scikit-learn\n",
        "from sklearn.linear_model import LogisticRegression\n",
        "from sklearn.neighbors import KNeighborsClassifier\n",
        "from sklearn.ensemble import RandomForestClassifier\n",
        "\n",
        "#Model Evaluation\n",
        "\n"
      ],
      "execution_count": null,
      "outputs": []
    }
  ]
}