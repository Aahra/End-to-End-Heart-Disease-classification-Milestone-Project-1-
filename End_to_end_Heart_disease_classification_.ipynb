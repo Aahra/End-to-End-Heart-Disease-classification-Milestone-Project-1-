{
  "nbformat": 4,
  "nbformat_minor": 0,
  "metadata": {
    "colab": {
      "name": "End to end Heart disease classification  .ipynb",
      "provenance": [],
      "authorship_tag": "ABX9TyNGQ5uzGM++L3ZTp6649TNY",
      "include_colab_link": true
    },
    "kernelspec": {
      "name": "python3",
      "display_name": "Python 3"
    },
    "language_info": {
      "name": "python"
    }
  },
  "cells": [
    {
      "cell_type": "markdown",
      "metadata": {
        "id": "view-in-github",
        "colab_type": "text"
      },
      "source": [
        "<a href=\"https://colab.research.google.com/github/Aahra/End-to-End-Heart-Disease-classification-Milestone-Project-1-/blob/main/End_to_end_Heart_disease_classification_.ipynb\" target=\"_parent\"><img src=\"https://colab.research.google.com/assets/colab-badge.svg\" alt=\"Open In Colab\"/></a>"
      ]
    },
    {
      "cell_type": "markdown",
      "metadata": {
        "id": "eIoExspHcCuZ"
      },
      "source": [
        "# <b>Predicting  heart disease using Machine learning\n",
        "\n",
        "## This notebook looks into using various Python based machine learning and data science libraries in an attempt to build a machine learning model capable of predicting whether or not someone has a heart disease based on their medical attributes\n",
        "\n",
        "\n",
        "## We are going to take the following approach-\n",
        "##1. Problem definition\n",
        "##2. Data\n",
        "##3. Evaluation-What is success for us?\n",
        "##4. Features(of Data)\n",
        "##5. Modelling\n",
        "##6. Experimentation"
      ]
    },
    {
      "cell_type": "code",
      "metadata": {
        "id": "feh_mkZob7Xx"
      },
      "source": [
        ""
      ],
      "execution_count": null,
      "outputs": []
    },
    {
      "cell_type": "markdown",
      "metadata": {
        "id": "xDwuurL_VJGz"
      },
      "source": [
        ""
      ]
    }
  ]
}